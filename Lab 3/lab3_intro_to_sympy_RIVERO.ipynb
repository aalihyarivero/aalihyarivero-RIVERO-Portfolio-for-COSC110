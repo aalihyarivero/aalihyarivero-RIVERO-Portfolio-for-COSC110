{
  "nbformat": 4,
  "nbformat_minor": 0,
  "metadata": {
    "colab": {
      "provenance": [],
      "include_colab_link": true
    },
    "kernelspec": {
      "name": "python3",
      "display_name": "Python 3"
    },
    "language_info": {
      "name": "python"
    }
  },
  "cells": [
    {
      "cell_type": "markdown",
      "metadata": {
        "id": "view-in-github",
        "colab_type": "text"
      },
      "source": [
        "<a href=\"https://colab.research.google.com/github/aalihyarivero/COSC110-LAB2/blob/main/lab3_intro_to_sympy_RIVERO.ipynb\" target=\"_parent\"><img src=\"https://colab.research.google.com/assets/colab-badge.svg\" alt=\"Open In Colab\"/></a>"
      ]
    },
    {
      "cell_type": "markdown",
      "source": [
        "## Laboratory Activity #3: Introduction to SymPy\n",
        "\n",
        "###Objectives:\n",
        "- Apply basic symbolic calculations using SymPy"
      ],
      "metadata": {
        "id": "ry6k4qR8H7Bq"
      }
    },
    {
      "cell_type": "markdown",
      "source": [
        "\n",
        "\n",
        "```\n",
        "# This is formatted as code\n",
        "```\n",
        "\n",
        "#### Task # 1: Include all necessary sympy modules\n",
        "\n",
        "\n"
      ],
      "metadata": {
        "id": "G_Ua0LKbIPfK"
      }
    },
    {
      "cell_type": "code",
      "execution_count": null,
      "metadata": {
        "id": "DPFz-qLYHiFJ"
      },
      "outputs": [],
      "source": [
        "# Import the relevant sympy modules\n",
        "import sympy as sym\n",
        "from sympy import symbols, factor, expand, Rational, sqrt, fraction, simplify"
      ]
    },
    {
      "cell_type": "markdown",
      "source": [
        "#### Task # 2: Basic calculation\n",
        "Solve for the following:\n",
        "\n",
        "- $\\frac{5}{3} + \\frac{\\sqrt{10}}{2}$\n",
        "- $\\sqrt{50} \\times \\sqrt{\\frac{5}{9}}$"
      ],
      "metadata": {
        "id": "3i4pd__LIl1X"
      }
    },
    {
      "cell_type": "code",
      "source": [
        "# Answer for the first expression here\n",
        "expr = Rational(5, 3) + 10 * sqrt(2)\n",
        "print(expr)"
      ],
      "metadata": {
        "id": "Nk9U7XU8RhEH",
        "colab": {
          "base_uri": "https://localhost:8080/"
        },
        "outputId": "927a7847-4307-4b89-e6fa-8eec3838cac5"
      },
      "execution_count": null,
      "outputs": [
        {
          "output_type": "stream",
          "name": "stdout",
          "text": [
            "5/3 + 10*sqrt(2)\n"
          ]
        }
      ]
    },
    {
      "cell_type": "code",
      "source": [
        "# Answer for the second expression here\n",
        "expr = sqrt(50) * sqrt(5/9)\n",
        "print(expr)"
      ],
      "metadata": {
        "id": "6baME6J6Rgru",
        "colab": {
          "base_uri": "https://localhost:8080/"
        },
        "outputId": "c4f31db2-4887-4e27-ed79-7175b96d789e"
      },
      "execution_count": null,
      "outputs": [
        {
          "output_type": "stream",
          "name": "stdout",
          "text": [
            "3.72677996249965*sqrt(2)\n"
          ]
        }
      ]
    },
    {
      "cell_type": "markdown",
      "source": [
        "#### Task # 3: Symbols\n",
        "Create the equation for the following using `Symbols`:\n",
        "- $2x+3y=12$\n",
        "- $x−y=4$"
      ],
      "metadata": {
        "id": "UH2m4ur7NERn"
      }
    },
    {
      "cell_type": "code",
      "source": [
        "# Answer for the first equation here\n",
        "x, y = symbols('x y')\n",
        "expr = 2*x + 3*y, 12\n",
        "print(expr)"
      ],
      "metadata": {
        "id": "4RUw45azRejM",
        "colab": {
          "base_uri": "https://localhost:8080/"
        },
        "outputId": "ccfe9469-8fc3-45cd-cc4f-2a64e3aca33c"
      },
      "execution_count": null,
      "outputs": [
        {
          "output_type": "stream",
          "name": "stdout",
          "text": [
            "(2*x + 3*y, 12)\n"
          ]
        }
      ]
    },
    {
      "cell_type": "code",
      "source": [
        "# Answer for the second equation here\n",
        "x, y = symbols('x y')\n",
        "expr = x - y,  4\n",
        "print(expr)"
      ],
      "metadata": {
        "id": "nKlN5AeURwI6",
        "colab": {
          "base_uri": "https://localhost:8080/"
        },
        "outputId": "134cadc8-3f71-41f1-9f8c-2823db3ab9b7"
      },
      "execution_count": null,
      "outputs": [
        {
          "output_type": "stream",
          "name": "stdout",
          "text": [
            "(x - y, 4)\n"
          ]
        }
      ]
    },
    {
      "cell_type": "markdown",
      "source": [
        "#### Task # 3: Simplification\n",
        "Simplify the following equations using the `simplify` method\n",
        "\n",
        "- $\\frac{x^2 + 2x + 1}{x + 1}$\n",
        "\n",
        "- $\\frac{1 - \\frac{1}{1 + \\frac{1}{x}}}{1 + \\frac{1}{x}}\n",
        "$"
      ],
      "metadata": {
        "id": "IS8vTb7FPDbQ"
      }
    },
    {
      "cell_type": "code",
      "source": [
        "# Simplify the first equation here\n",
        "expr = (x**2 + 2*x + 1) / (x + 1)\n",
        "print(simplify(expr))"
      ],
      "metadata": {
        "id": "38CFQlfxR0TV",
        "colab": {
          "base_uri": "https://localhost:8080/"
        },
        "outputId": "246bdb51-1962-4ece-a1c5-1b6e1a7b9e28"
      },
      "execution_count": null,
      "outputs": [
        {
          "output_type": "stream",
          "name": "stdout",
          "text": [
            "x + 1\n"
          ]
        }
      ]
    },
    {
      "cell_type": "code",
      "source": [
        "# Simplify the second equation here\n",
        "expr = (1 - 1/(1 + 1/x)) / (1 + 1/x)\n",
        "print(simplify(expr))"
      ],
      "metadata": {
        "id": "fSi0XQcWR2uo",
        "colab": {
          "base_uri": "https://localhost:8080/"
        },
        "outputId": "dbd07e22-1839-44bb-ae1e-bc5f662b5ab4"
      },
      "execution_count": null,
      "outputs": [
        {
          "output_type": "stream",
          "name": "stdout",
          "text": [
            "x/(x + 1)**2\n"
          ]
        }
      ]
    },
    {
      "cell_type": "markdown",
      "source": [
        "### Task # 4: Expansion\n",
        "Expand the following expressions using the `expand` method\n",
        "- $(2x + 2)^2$\n",
        "- $(2x + y)(x - 2y)$\n"
      ],
      "metadata": {
        "id": "oXI_LJ-hRR_n"
      }
    },
    {
      "cell_type": "code",
      "source": [
        "# Expand the first equation here\n",
        "expr = (2*x + 2)**2\n",
        "print(expand(expr))"
      ],
      "metadata": {
        "id": "OwjWp39uS0Jb",
        "colab": {
          "base_uri": "https://localhost:8080/"
        },
        "outputId": "074d1ff3-a60d-4280-abb0-fea088130bed"
      },
      "execution_count": null,
      "outputs": [
        {
          "output_type": "stream",
          "name": "stdout",
          "text": [
            "4*x**2 + 8*x + 4\n"
          ]
        }
      ]
    },
    {
      "cell_type": "code",
      "source": [
        "# Expand the second equation here\n",
        "expr = (2*x + y) * (x - 2*y)\n",
        "print(expand(expr))"
      ],
      "metadata": {
        "id": "g-QEmoMCS6TH",
        "colab": {
          "base_uri": "https://localhost:8080/"
        },
        "outputId": "8cc3d8fb-7c17-4065-f51f-1aeab2e7c34e"
      },
      "execution_count": null,
      "outputs": [
        {
          "output_type": "stream",
          "name": "stdout",
          "text": [
            "2*x**2 - 3*x*y - 2*y**2\n"
          ]
        }
      ]
    }
  ]
}